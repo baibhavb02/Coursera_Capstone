{
    "cells": [
        {
            "cell_type": "markdown",
            "metadata": {
                "collapsed": true
            },
            "source": "# The Battle of Neighborhoods | Business Proposal | Introduction"
        },
        {
            "cell_type": "markdown",
            "metadata": {},
            "source": "## Introduction:"
        },
        {
            "cell_type": "markdown",
            "metadata": {},
            "source": "There are many people who are working in various cities (say New York and Toronto) across the\nworld. Let's say a person got a job offer from a great company with great career prospects in other city\nor other borough of his/her current city. If person accept the job offer then he/she has to shift to new\nlocation. I think a person would love to shift a location which is exactly or almost similar to his/her\nlast location because he/she loves the great amenities and other types of venues that exist in his/her\ncurrent neighbourhood like school, gym, swimming pool, Amusement park, restaurants, coffee-shops,\nspencer etc. So I\u2019ll find out what are borough-neighbourhoods are very similar to give current\nlocation. A person can shift within the city or from one city to another city. If person is shifting within\nthe city then he/she must be changing the borough and my task would be finding neighbourhoods in\nthat borough which are very similar to his/her last location. If a person is shifting from one city to\nanother city then my task would be finding the similar neighbourhoods."
        },
        {
            "cell_type": "markdown",
            "metadata": {},
            "source": "## Libraries Which are Used to Develope the Project:"
        },
        {
            "cell_type": "markdown",
            "metadata": {},
            "source": "Pandas: For creating and manipulating dataframes.\n\nFolium: Python visualization library would be used to visualize the neighborhoods cluster distribution of using interactive leaflet map.\n\nScikit Learn: For importing k-means clustering.\n\nJSON: Library to handle JSON files.\n\nXML: To separate data from presentation and XML stores data in plain text format.\n\nGeocoder: To retrieve Location Data.\n\nBeautiful Soup and Requests: To scrap and library to handle http requests.\n\nMatplotlib: Python Plotting Module."
        },
        {
            "cell_type": "code",
            "execution_count": null,
            "metadata": {},
            "outputs": [],
            "source": ""
        }
    ],
    "metadata": {
        "kernelspec": {
            "display_name": "Python 3.6",
            "language": "python",
            "name": "python3"
        },
        "language_info": {
            "codemirror_mode": {
                "name": "ipython",
                "version": 3
            },
            "file_extension": ".py",
            "mimetype": "text/x-python",
            "name": "python",
            "nbconvert_exporter": "python",
            "pygments_lexer": "ipython3",
            "version": "3.6.9"
        }
    },
    "nbformat": 4,
    "nbformat_minor": 1
}